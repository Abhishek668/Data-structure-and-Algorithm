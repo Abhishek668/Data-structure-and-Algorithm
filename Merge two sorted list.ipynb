{
 "cells": [
  {
   "cell_type": "code",
   "execution_count": 4,
   "id": "60a2d555",
   "metadata": {},
   "outputs": [
    {
     "name": "stdout",
     "output_type": "stream",
     "text": [
      "[2, 3, 4, 5, 6, 8, 12, 56]\n"
     ]
    }
   ],
   "source": [
    "def merge_sort(arr):\n",
    "    if len(arr)<1:\n",
    "        return arr\n",
    "    mid =len(arr)/2\n",
    "    mid = arr[:mid]\n",
    "    left = arr[:mid]\n",
    "    right = arr[mid:]\n",
    "    left = merge_sort(left)\n",
    "    right = merge_sort(right)\n",
    "    return merge_two_sorted_lists(left,right)\n",
    "\n",
    "\n",
    "def merge_two_sorted_list(a,b):\n",
    "    sorted_list=[]\n",
    "    len_a=len(a)\n",
    "    len_b=len(b)\n",
    "    i = j =0\n",
    "    while i<len_a and j <len_b:\n",
    "        if a[i]<=b[j]:\n",
    "            sorted_list.append(a[i])\n",
    "            i+=1\n",
    "        else:\n",
    "            sorted_list.append(b[j])\n",
    "            j +=1\n",
    "    while i <len_a:\n",
    "        sorted_list.append(a[i])\n",
    "        i +=1\n",
    "        \n",
    "    while j <len_b:\n",
    "        sorted_list.append(a[j])\n",
    "        j +=1\n",
    "    \n",
    "    return sorted_list\n",
    "\n",
    "if __name__ == \"__main__\":\n",
    "    arr=[4,3,5,2,6,1,7,9,38]\n",
    "    print( merge_two_sorted_list(a,b))"
   ]
  },
  {
   "cell_type": "code",
   "execution_count": null,
   "id": "35438846",
   "metadata": {},
   "outputs": [],
   "source": []
  }
 ],
 "metadata": {
  "kernelspec": {
   "display_name": "Python 3 (ipykernel)",
   "language": "python",
   "name": "python3"
  },
  "language_info": {
   "codemirror_mode": {
    "name": "ipython",
    "version": 3
   },
   "file_extension": ".py",
   "mimetype": "text/x-python",
   "name": "python",
   "nbconvert_exporter": "python",
   "pygments_lexer": "ipython3",
   "version": "3.9.7"
  }
 },
 "nbformat": 4,
 "nbformat_minor": 5
}
