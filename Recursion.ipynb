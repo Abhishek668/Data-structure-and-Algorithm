{
 "cells": [
  {
   "cell_type": "code",
   "execution_count": 4,
   "id": "1af20531",
   "metadata": {},
   "outputs": [
    {
     "name": "stdout",
     "output_type": "stream",
     "text": [
      "15\n"
     ]
    }
   ],
   "source": [
    "def find_sum(n):\n",
    "    if n==1:\n",
    "        return 1\n",
    "    return n + find_sum(n-1)\n",
    "\n",
    "\n",
    "if __name__ =='__main__':\n",
    "    print(find_sum(5))"
   ]
  },
  {
   "cell_type": "markdown",
   "id": "f25f422d",
   "metadata": {},
   "source": [
    "### Fibonacci number"
   ]
  },
  {
   "cell_type": "code",
   "execution_count": 15,
   "id": "1a4061d2",
   "metadata": {},
   "outputs": [
    {
     "name": "stdout",
     "output_type": "stream",
     "text": [
      "8\n"
     ]
    }
   ],
   "source": [
    "def fib(n):\n",
    "    if n==0 or n==1:\n",
    "        return n\n",
    "    return fib(n-1) + fib(n-2)\n",
    "    \n",
    "if __name__ =='__main__':\n",
    "    print(fib(6))"
   ]
  },
  {
   "cell_type": "code",
   "execution_count": null,
   "id": "3a07257a",
   "metadata": {},
   "outputs": [],
   "source": []
  }
 ],
 "metadata": {
  "kernelspec": {
   "display_name": "Python 3 (ipykernel)",
   "language": "python",
   "name": "python3"
  },
  "language_info": {
   "codemirror_mode": {
    "name": "ipython",
    "version": 3
   },
   "file_extension": ".py",
   "mimetype": "text/x-python",
   "name": "python",
   "nbconvert_exporter": "python",
   "pygments_lexer": "ipython3",
   "version": "3.9.7"
  }
 },
 "nbformat": 4,
 "nbformat_minor": 5
}
