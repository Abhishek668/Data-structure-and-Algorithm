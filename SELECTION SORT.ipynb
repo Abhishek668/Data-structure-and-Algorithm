{
 "cells": [
  {
   "cell_type": "markdown",
   "id": "6f44e6ad",
   "metadata": {},
   "source": [
    "### To Find minimum in an array"
   ]
  },
  {
   "cell_type": "code",
   "execution_count": 17,
   "id": "c2964e87",
   "metadata": {},
   "outputs": [
    {
     "name": "stdout",
     "output_type": "stream",
     "text": [
      "[8, 4, 5, 6, 7, 3, 29]\n"
     ]
    }
   ],
   "source": [
    "def selection_sort(arr):\n",
    "    size = len(arr)\n",
    "    for i in range (size-1):\n",
    "        min_index=i\n",
    "        for j in range(min_index+1,size):\n",
    "            if arr[j] <  arr[min_index]:\n",
    "                mid_index=j\n",
    "        if i!= min_index:         \n",
    "            arr[i],arr[min_index]=arr[min_index],arr[i]\n",
    "\n",
    "\n",
    "\n",
    "\n",
    "\n",
    "\n",
    "if __name__ == '__main__':\n",
    "    element=[8,4,5,6,7,3,29]\n",
    "    selection_sort(element)\n",
    "    print(element)"
   ]
  },
  {
   "cell_type": "code",
   "execution_count": 16,
   "id": "aba10501",
   "metadata": {},
   "outputs": [
    {
     "name": "stdout",
     "output_type": "stream",
     "text": [
      "3\n"
     ]
    }
   ],
   "source": [
    "def find_min_element(arr):\n",
    "    min = 100000\n",
    "    for i in range(len(arr)):\n",
    "        if arr[i]<min:\n",
    "            min = arr[i]\n",
    "    return min\n",
    "\n",
    "\n",
    "if __name__ == \"__main__\":\n",
    "    arr=[8,4,5,6,7,3,29,]\n",
    "    print(find_min_element(arr))"
   ]
  },
  {
   "cell_type": "code",
   "execution_count": 18,
   "id": "02ecc70a",
   "metadata": {},
   "outputs": [
    {
     "name": "stdout",
     "output_type": "stream",
     "text": [
      "[1, 2, 6, 7, 9, 12, 17, 21, 23, 53, 61, 78, 89]\n",
      "[]\n",
      "[1, 5, 8, 9]\n",
      "[1, 3, 9, 12, 12, 34, 56, 234, 1300]\n",
      "[8, 12, 15, 23, 27, 53, 61, 78]\n",
      "[5]\n"
     ]
    }
   ],
   "source": [
    "\n",
    "def selection_sort(arr):\n",
    "    size = len(arr)\n",
    "    for i in range(size-1):\n",
    "        min_index = i\n",
    "        for j in range(min_index+1,size):\n",
    "            if arr[j] < arr[min_index]:\n",
    "                min_index = j\n",
    "        if i != min_index:\n",
    "            arr[i], arr[min_index] = arr[min_index], arr[i]\n",
    "\n",
    "\n",
    "if __name__ == '__main__':\n",
    "    tests = [\n",
    "        [89, 78, 61, 53, 23, 21, 17, 12, 9, 7, 6, 2, 1],\n",
    "        [],\n",
    "        [1,5,8,9],\n",
    "        [234,3,1,56,34,12,9,12,1300],\n",
    "        [78, 12, 15, 8, 61, 53, 23, 27],\n",
    "        [5]\n",
    "    ]\n",
    "    for elements in tests:\n",
    "        selection_sort(elements)\n",
    "        print(elements)"
   ]
  },
  {
   "cell_type": "code",
   "execution_count": null,
   "id": "7676e544",
   "metadata": {},
   "outputs": [],
   "source": []
  }
 ],
 "metadata": {
  "kernelspec": {
   "display_name": "Python 3 (ipykernel)",
   "language": "python",
   "name": "python3"
  },
  "language_info": {
   "codemirror_mode": {
    "name": "ipython",
    "version": 3
   },
   "file_extension": ".py",
   "mimetype": "text/x-python",
   "name": "python",
   "nbconvert_exporter": "python",
   "pygments_lexer": "ipython3",
   "version": "3.9.7"
  }
 },
 "nbformat": 4,
 "nbformat_minor": 5
}
