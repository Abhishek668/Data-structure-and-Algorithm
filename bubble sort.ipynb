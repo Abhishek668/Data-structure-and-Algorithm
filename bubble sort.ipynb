{
 "cells": [
  {
   "cell_type": "code",
   "execution_count": 2,
   "id": "0338430e",
   "metadata": {},
   "outputs": [
    {
     "name": "stdout",
     "output_type": "stream",
     "text": [
      "Available Themes: \n",
      "   chesterish\n",
      "   grade3\n",
      "   gruvboxd\n",
      "   gruvboxl\n",
      "   monokai\n",
      "   oceans16\n",
      "   onedork\n",
      "   solarizedd\n",
      "   solarizedl\n"
     ]
    }
   ],
   "source": [
    "!jt -l"
   ]
  },
  {
   "cell_type": "code",
   "execution_count": 4,
   "id": "5f147dbe",
   "metadata": {},
   "outputs": [],
   "source": [
    "!jt -t  grade3"
   ]
  },
  {
   "cell_type": "code",
   "execution_count": 5,
   "id": "ea294a8b",
   "metadata": {
    "scrolled": true
   },
   "outputs": [
    {
     "name": "stdout",
     "output_type": "stream",
     "text": [
      "Reset css and font defaults in:\n",
      "C:\\Users\\Abhi\\.jupyter\\custom &\n",
      "C:\\Users\\Abhi\\AppData\\Roaming\\jupyter\\nbextensions\n"
     ]
    }
   ],
   "source": [
    "!jt -r"
   ]
  },
  {
   "cell_type": "markdown",
   "id": "ddf45f6f",
   "metadata": {},
   "source": [
    "### Bubble sort is a sorting technique used to sort a list or an array. It performs sorting in O(n^2) time complexity so it is not the most efficient but it is probably a very simple technique to understand"
   ]
  },
  {
   "cell_type": "markdown",
   "id": "4b66f54c",
   "metadata": {},
   "source": [
    "#### Bubble Sort"
   ]
  },
  {
   "cell_type": "code",
   "execution_count": 14,
   "id": "12090f4a",
   "metadata": {},
   "outputs": [
    {
     "name": "stdout",
     "output_type": "stream",
     "text": [
      "An error occurred.\n",
      "ValueError: Please install Node.js and npm before continuing installation. You may be able to install Node.js from your package manager, from conda, or directly from the Node.js website (https://nodejs.org).\n",
      "See the log file for details:  C:\\Users\\Abhi\\AppData\\Local\\Temp\\jupyterlab-debug-p6pyc1gv.log\n"
     ]
    }
   ],
   "source": [
    "!jupyter labextension install @jupyterlab/debugger"
   ]
  },
  {
   "cell_type": "code",
   "execution_count": 15,
   "id": "ab359400",
   "metadata": {},
   "outputs": [
    {
     "name": "stdout",
     "output_type": "stream",
     "text": [
      "[1, 2, 5, 9, 34, 34, 67, 88]\n"
     ]
    }
   ],
   "source": [
    "def bubble_sort(elements):\n",
    "    size =len(elements)\n",
    "    \n",
    "    for k in range(size-1):\n",
    "        for i in range(size-1):\n",
    "            if elements[i] > elements[i+1]:\n",
    "                temp =elements[i]               # assigning temporary variable\n",
    "                elements[i]=elements[i+1]\n",
    "                elements[i+1]=temp\n",
    "        \n",
    "        \n",
    "    \n",
    "    \n",
    "if __name__=='__main__':\n",
    "    elements = [5,9,2,1,67,34,88,34]\n",
    "    \n",
    "    \n",
    "    bubble_sort(elements)\n",
    "    print(elements)\n",
    "    "
   ]
  },
  {
   "cell_type": "markdown",
   "id": "c42012a4",
   "metadata": {},
   "source": [
    "### Bubble sort in most efficient way i.e O(n) "
   ]
  },
  {
   "cell_type": "code",
   "execution_count": 20,
   "id": "4588cf4e",
   "metadata": {},
   "outputs": [
    {
     "name": "stdout",
     "output_type": "stream",
     "text": [
      "[1, 2, 5, 9, 34, 34, 67, 88]\n"
     ]
    }
   ],
   "source": [
    "def bubble_sort(elements):\n",
    "    size =len(elements)\n",
    "    \n",
    "    for k in range(size-1):\n",
    "        swapped = False\n",
    "        for i in range(size-1-k):\n",
    "            if elements[i] > elements[i+1]:\n",
    "                temp =elements[i]               # assigning temporary variable\n",
    "                elements[i]=elements[i+1]\n",
    "                elements[i+1]=temp\n",
    "        if not swapped:\n",
    "            pass\n",
    "        \n",
    "    \n",
    "    \n",
    "if __name__=='__main__':\n",
    "    elements = [5,9,2,1,67,34,88,34]\n",
    "    \n",
    "    \n",
    "    bubble_sort(elements)\n",
    "    print(elements)"
   ]
  },
  {
   "cell_type": "code",
   "execution_count": null,
   "id": "8213d3d7",
   "metadata": {},
   "outputs": [],
   "source": []
  }
 ],
 "metadata": {
  "kernelspec": {
   "display_name": "Python 3 (ipykernel)",
   "language": "python",
   "name": "python3"
  },
  "language_info": {
   "codemirror_mode": {
    "name": "ipython",
    "version": 3
   },
   "file_extension": ".py",
   "mimetype": "text/x-python",
   "name": "python",
   "nbconvert_exporter": "python",
   "pygments_lexer": "ipython3",
   "version": "3.9.7"
  }
 },
 "nbformat": 4,
 "nbformat_minor": 5
}
